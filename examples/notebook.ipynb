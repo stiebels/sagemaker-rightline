{
 "cells": [
  {
   "cell_type": "code",
   "execution_count": 1,
   "metadata": {
    "collapsed": true
   },
   "outputs": [],
   "source": [
    "%load_ext autoreload\n",
    "%autoreload 2\n",
    "\n",
    "from sagemaker.processing import NetworkConfig\n",
    "from sagemaker.workflow.parameters import ParameterString\n",
    "from sagemaker_rightline.model import Configuration\n",
    "from sagemaker_rightline.validations import (\n",
    "    StepImagesExistOnEcr,\n",
    "    StepKmsKeyId,\n",
    "    PipelineParameters,\n",
    "    ContainerImage,\n",
    "    StepNetworkConfig,\n",
    ")\n",
    "from sagemaker_rightline.rules import Equals, Contains\n",
    "from tests.utils import create_image\n",
    "from tests.fixtures.pipeline import get_sagemaker_pipeline\n",
    "from tests.fixtures.image_details import IMAGE_1_URI, IMAGE_2_URI\n",
    "from moto import mock_ecr\n",
    "import boto3"
   ]
  },
  {
   "cell_type": "code",
   "execution_count": 19,
   "outputs": [],
   "source": [
    "from sagemaker.processing import NetworkConfig, ScriptProcessor\n",
    "from sagemaker.spark.processing import PySparkProcessor\n",
    "from sagemaker.workflow.parameters import ParameterString\n",
    "from sagemaker.workflow.pipeline import Pipeline\n",
    "from sagemaker.workflow.steps import ProcessingInput, ProcessingOutput, ProcessingStep, TrainingStep\n",
    "from sagemaker.sklearn.estimator import SKLearn\n",
    "\n",
    "from tests.fixtures.constants import TEST_ROLE_ARN\n",
    "from tests.fixtures.image_details import IMAGE_1_URI, IMAGE_2_URI\n",
    "\n",
    "\n",
    "def arn_formatter(_type: str, _id: str, account_id: str, region_name: str) -> str:\n",
    "    return f\"arn:aws:sagemaker:{region_name}:{account_id}:{_type}/{_id}\"\n",
    "\n",
    "\n",
    "def get_sagemaker_pipeline(\n",
    "    script_path: str = \"tests/fixtures/fake_processing_script.py\",\n",
    ") -> Pipeline:\n",
    "    network_config = NetworkConfig(\n",
    "            enable_network_isolation=True,\n",
    "            security_group_ids=[\"sg-12345\"],\n",
    "            subnets=[\"subnet-12345\"],\n",
    "            encrypt_inter_container_traffic=True,\n",
    "        )\n",
    "\n",
    "    sm_processor_sklearn = ScriptProcessor(\n",
    "        base_job_name=\"sm_processor\",\n",
    "        role=TEST_ROLE_ARN,\n",
    "        image_uri=IMAGE_1_URI,\n",
    "        network_config=network_config,\n",
    "    )\n",
    "    sm_processor_spark = PySparkProcessor(\n",
    "        base_job_name=\"sm_processors\",\n",
    "        role=TEST_ROLE_ARN,\n",
    "        image_uri=IMAGE_2_URI,\n",
    "        instance_type=\"ml.m5.xlarge\",\n",
    "        instance_count=2,\n",
    "    )\n",
    "    dummy_bucket = \"dummy-bucket\"\n",
    "\n",
    "    sm_processing_step_sklearn = ProcessingStep(\n",
    "        name=\"sm_processing_step_sklearn\",\n",
    "        code=script_path,\n",
    "        processor=sm_processor_sklearn,\n",
    "        kms_key=\"some/kms-key-alias\",\n",
    "        inputs=[\n",
    "            ProcessingInput(\n",
    "                source=f\"s3://{dummy_bucket}/input-1\",\n",
    "                destination=\"/opt/ml/processing/input\",\n",
    "                input_name=\"input-1\",\n",
    "            ),\n",
    "            ProcessingInput(\n",
    "                source=f\"s3://{dummy_bucket}/input-2\",\n",
    "                destination=\"/opt/ml/processing/input\",\n",
    "                input_name=\"input-2\",\n",
    "            ),\n",
    "        ],\n",
    "        outputs=[\n",
    "            ProcessingOutput(\n",
    "                output_name=\"output-1\",\n",
    "                source=\"/opt/ml/processing/output/1\",\n",
    "                destination=f\"s3://{dummy_bucket}/output-1\",\n",
    "            ),\n",
    "            ProcessingOutput(\n",
    "                output_name=\"output-2\",\n",
    "                source=\"/opt/ml/processing/output/2\",\n",
    "                destination=f\"s3://{dummy_bucket}/output-2\",\n",
    "            ),\n",
    "        ],\n",
    "    )\n",
    "\n",
    "    sm_processing_step_spark = ProcessingStep(\n",
    "        name=\"sm_processing_step_spark\",\n",
    "        code=script_path,\n",
    "        processor=sm_processor_spark,\n",
    "        kms_key=\"some/kms-key-alias\",\n",
    "        inputs=[\n",
    "            ProcessingInput(\n",
    "                source=f\"s3://{dummy_bucket}/output-1\",\n",
    "                destination=\"/opt/ml/processing/input\",\n",
    "                input_name=\"input-1\",\n",
    "            ),\n",
    "            ProcessingInput(\n",
    "                source=f\"s3://{dummy_bucket}/output-2\",\n",
    "                destination=\"/opt/ml/processing/input\",\n",
    "                input_name=\"input-2\",\n",
    "            ),\n",
    "        ],\n",
    "        outputs=[\n",
    "            ProcessingOutput(\n",
    "                output_name=\"output-1\",\n",
    "                source=\"/opt/ml/processing/output/1\",\n",
    "                destination=f\"s3://{dummy_bucket}/output-3\",\n",
    "            ),\n",
    "            ProcessingOutput(\n",
    "                output_name=\"output-2\",\n",
    "                source=\"/opt/ml/processing/output/2\",\n",
    "                destination=f\"s3://{dummy_bucket}/output-4\",\n",
    "            ),\n",
    "        ],\n",
    "        depends_on=[sm_processing_step_sklearn.name],\n",
    "    )\n",
    "\n",
    "    sm_trainer_sklearn = SKLearn(\n",
    "        entry_point=script_path,\n",
    "        role=TEST_ROLE_ARN,\n",
    "        image_uri=IMAGE_1_URI,\n",
    "        instance_type=\"ml.c4.xlarge\",\n",
    "        output_kms_key=\"some/kms-key-alias\",\n",
    "        enable_network_isolation=network_config.enable_network_isolation,\n",
    "        security_group_ids=network_config.security_group_ids,\n",
    "        subnets=network_config.subnets,\n",
    "        encrypt_inter_container_traffic=network_config.encrypt_inter_container_traffic,\n",
    "    )\n",
    "    sm_training_step_sklearn = TrainingStep(\n",
    "        name=\"sm_training_step_sklearn\",\n",
    "        estimator=sm_trainer_sklearn,\n",
    "        inputs={\n",
    "            \"train\": f\"s3://{dummy_bucket}/output-3\",\n",
    "            \"test\": f\"s3://{dummy_bucket}/output-4\",\n",
    "        },\n",
    "        depends_on=[sm_processing_step_spark.name],\n",
    "    )\n",
    "\n",
    "    sm_pipeline = Pipeline(\n",
    "        name=\"dummy-pipeline\",\n",
    "        steps=[sm_processing_step_sklearn, sm_processing_step_spark, sm_training_step_sklearn],\n",
    "        parameters=[\n",
    "            ParameterString(\n",
    "                name=\"parameter-1\",\n",
    "                default_value=\"some-value-1\",\n",
    "            ),\n",
    "            ParameterString(\n",
    "                name=\"parameter-2\",\n",
    "                default_value=\"some-value-2\",\n",
    "            ),\n",
    "        ],\n",
    "    )\n",
    "    return sm_pipeline\n"
   ],
   "metadata": {
    "collapsed": false
   }
  },
  {
   "cell_type": "markdown",
   "source": [
    "## Fetching SM Pipeline"
   ],
   "metadata": {
    "collapsed": false
   }
  },
  {
   "cell_type": "code",
   "execution_count": 20,
   "outputs": [],
   "source": [
    "sm_pipeline = get_sagemaker_pipeline(script_path=\"../tests/fixtures/fake_processing_script.py\")"
   ],
   "metadata": {
    "collapsed": false
   }
  },
  {
   "cell_type": "markdown",
   "source": [
    "## Defining function that validates the SM Pipeline"
   ],
   "metadata": {
    "collapsed": false
   }
  },
  {
   "cell_type": "markdown",
   "source": [
    "Note: In order to run this example offline/without AWS access, we're mocking ECR and publishing two mock images to it."
   ],
   "metadata": {
    "collapsed": false
   }
  },
  {
   "cell_type": "code",
   "execution_count": 4,
   "outputs": [],
   "source": [
    "@mock_ecr\n",
    "@create_image(\n",
    "    boto3.client(\"ecr\"), [ContainerImage(uri=IMAGE_1_URI), ContainerImage(uri=IMAGE_2_URI)]\n",
    ")\n",
    "def validate_sm_pipeline(sm_pipeline: \"sagemaker.workflow.pipeline.Pipeline\") -> \"pandas.DataFrame\":\n",
    "    validations = [\n",
    "        StepImagesExistOnEcr(),\n",
    "        PipelineParameters(\n",
    "            parameters_expected=[\n",
    "                ParameterString(\n",
    "                    name=\"parameter-1\",\n",
    "                    default_value=\"some-value\",\n",
    "                ),\n",
    "            ],\n",
    "            rule=Contains(),\n",
    "        ),\n",
    "        StepKmsKeyId(\n",
    "            kms_key_id_expected=\"some/kms-key-alias\",\n",
    "            step_name=\"output-1\",  # optional: if not set, will check all steps [applies to all Step* validations\n",
    "            rule=Equals(),\n",
    "        ),\n",
    "        StepNetworkConfig(\n",
    "            network_config_expected=NetworkConfig(\n",
    "                enable_network_isolation=False,\n",
    "                security_group_ids=[\"sg-1234567890\"],\n",
    "                subnets=[\"subnet-1234567890\"],\n",
    "            ),\n",
    "            rule=Equals(),\n",
    "        )\n",
    "    ]\n",
    "    cm = Configuration(\n",
    "        validations=validations,\n",
    "        sagemaker_pipeline=sm_pipeline,\n",
    "    )\n",
    "    return cm.run(return_df=True)"
   ],
   "metadata": {
    "collapsed": false
   }
  },
  {
   "cell_type": "code",
   "execution_count": 15,
   "outputs": [],
   "source": [
    "a = NetworkConfig()"
   ],
   "metadata": {
    "collapsed": false
   }
  },
  {
   "cell_type": "code",
   "execution_count": 26,
   "outputs": [
    {
     "data": {
      "text/plain": "True"
     },
     "execution_count": 26,
     "metadata": {},
     "output_type": "execute_result"
    }
   ],
   "source": [
    "sm_pipeline.steps[2].estimator.enable_network_isolation()"
   ],
   "metadata": {
    "collapsed": false
   }
  },
  {
   "cell_type": "markdown",
   "source": [],
   "metadata": {
    "collapsed": false
   }
  },
  {
   "cell_type": "markdown",
   "source": [
    "## Running the validation and printing the report"
   ],
   "metadata": {
    "collapsed": false
   }
  },
  {
   "cell_type": "code",
   "execution_count": 5,
   "outputs": [],
   "source": [
    "report = validate_sm_pipeline(sm_pipeline)"
   ],
   "metadata": {
    "collapsed": false
   }
  },
  {
   "cell_type": "code",
   "execution_count": 6,
   "outputs": [
    {
     "data": {
      "text/plain": "        validation_name                                            subject   \n0  StepImagesExistOnEcr  ['123456789012.dkr.ecr.eu-west-1.amazonaws.com...  \\\n1    PipelineParameters  [ParameterString(name='parameter-1', parameter...   \n2          StepKmsKeyId                             ['some/kms-key-alias']   \n3     StepNetworkConfig  [{'enable_network_isolation': False, 'security...   \n\n  success                                            message  \n0    True  Images ['123456789012.dkr.ecr.eu-west-1.amazon...  \n1   False  [ParameterString(name='parameter-1', parameter...  \n2    True  ['some/kms-key-alias'] does equal ['some/kms-k...  \n3   False  [] does not equal [{'enable_network_isolation'...  ",
      "text/html": "<div>\n<style scoped>\n    .dataframe tbody tr th:only-of-type {\n        vertical-align: middle;\n    }\n\n    .dataframe tbody tr th {\n        vertical-align: top;\n    }\n\n    .dataframe thead th {\n        text-align: right;\n    }\n</style>\n<table border=\"1\" class=\"dataframe\">\n  <thead>\n    <tr style=\"text-align: right;\">\n      <th></th>\n      <th>validation_name</th>\n      <th>subject</th>\n      <th>success</th>\n      <th>message</th>\n    </tr>\n  </thead>\n  <tbody>\n    <tr>\n      <th>0</th>\n      <td>StepImagesExistOnEcr</td>\n      <td>['123456789012.dkr.ecr.eu-west-1.amazonaws.com...</td>\n      <td>True</td>\n      <td>Images ['123456789012.dkr.ecr.eu-west-1.amazon...</td>\n    </tr>\n    <tr>\n      <th>1</th>\n      <td>PipelineParameters</td>\n      <td>[ParameterString(name='parameter-1', parameter...</td>\n      <td>False</td>\n      <td>[ParameterString(name='parameter-1', parameter...</td>\n    </tr>\n    <tr>\n      <th>2</th>\n      <td>StepKmsKeyId</td>\n      <td>['some/kms-key-alias']</td>\n      <td>True</td>\n      <td>['some/kms-key-alias'] does equal ['some/kms-k...</td>\n    </tr>\n    <tr>\n      <th>3</th>\n      <td>StepNetworkConfig</td>\n      <td>[{'enable_network_isolation': False, 'security...</td>\n      <td>False</td>\n      <td>[] does not equal [{'enable_network_isolation'...</td>\n    </tr>\n  </tbody>\n</table>\n</div>"
     },
     "execution_count": 6,
     "metadata": {},
     "output_type": "execute_result"
    }
   ],
   "source": [
    "report"
   ],
   "metadata": {
    "collapsed": false
   }
  },
  {
   "cell_type": "code",
   "execution_count": 7,
   "outputs": [
    {
     "data": {
      "text/plain": "        validation_name                                            subject   \n0  StepImagesExistOnEcr  ['123456789012.dkr.ecr.eu-west-1.amazonaws.com...  \\\n1    PipelineParameters  [ParameterString(name='parameter-1', parameter...   \n2          StepKmsKeyId                             ['some/kms-key-alias']   \n3     StepNetworkConfig  [{'enable_network_isolation': False, 'security...   \n\n  success                                            message  \n0    True  Images ['123456789012.dkr.ecr.eu-west-1.amazon...  \n1   False  [ParameterString(name='parameter-1', parameter...  \n2    True  ['some/kms-key-alias'] does equal ['some/kms-k...  \n3   False  [] does not equal [{'enable_network_isolation'...  ",
      "text/html": "<div>\n<style scoped>\n    .dataframe tbody tr th:only-of-type {\n        vertical-align: middle;\n    }\n\n    .dataframe tbody tr th {\n        vertical-align: top;\n    }\n\n    .dataframe thead th {\n        text-align: right;\n    }\n</style>\n<table border=\"1\" class=\"dataframe\">\n  <thead>\n    <tr style=\"text-align: right;\">\n      <th></th>\n      <th>validation_name</th>\n      <th>subject</th>\n      <th>success</th>\n      <th>message</th>\n    </tr>\n  </thead>\n  <tbody>\n    <tr>\n      <th>0</th>\n      <td>StepImagesExistOnEcr</td>\n      <td>['123456789012.dkr.ecr.eu-west-1.amazonaws.com...</td>\n      <td>True</td>\n      <td>Images ['123456789012.dkr.ecr.eu-west-1.amazon...</td>\n    </tr>\n    <tr>\n      <th>1</th>\n      <td>PipelineParameters</td>\n      <td>[ParameterString(name='parameter-1', parameter...</td>\n      <td>False</td>\n      <td>[ParameterString(name='parameter-1', parameter...</td>\n    </tr>\n    <tr>\n      <th>2</th>\n      <td>StepKmsKeyId</td>\n      <td>['some/kms-key-alias']</td>\n      <td>True</td>\n      <td>['some/kms-key-alias'] does equal ['some/kms-k...</td>\n    </tr>\n    <tr>\n      <th>3</th>\n      <td>StepNetworkConfig</td>\n      <td>[{'enable_network_isolation': False, 'security...</td>\n      <td>False</td>\n      <td>[] does not equal [{'enable_network_isolation'...</td>\n    </tr>\n  </tbody>\n</table>\n</div>"
     },
     "execution_count": 7,
     "metadata": {},
     "output_type": "execute_result"
    }
   ],
   "source": [
    "report"
   ],
   "metadata": {
    "collapsed": false
   }
  },
  {
   "cell_type": "code",
   "execution_count": null,
   "outputs": [],
   "source": [],
   "metadata": {
    "collapsed": false
   }
  }
 ],
 "metadata": {
  "kernelspec": {
   "display_name": "Python 3",
   "language": "python",
   "name": "python3"
  },
  "language_info": {
   "codemirror_mode": {
    "name": "ipython",
    "version": 2
   },
   "file_extension": ".py",
   "mimetype": "text/x-python",
   "name": "python",
   "nbconvert_exporter": "python",
   "pygments_lexer": "ipython2",
   "version": "2.7.6"
  }
 },
 "nbformat": 4,
 "nbformat_minor": 0
}
