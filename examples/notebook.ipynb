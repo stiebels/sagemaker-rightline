{
 "cells": [
  {
   "cell_type": "code",
   "execution_count": 19,
   "metadata": {},
   "outputs": [
    {
     "name": "stdout",
     "output_type": "stream",
     "text": [
      "The autoreload extension is already loaded. To reload it, use:\n",
      "  %reload_ext autoreload\n"
     ]
    },
    {
     "ename": "ModuleNotFoundError",
     "evalue": "No module named 'tests.fixtures'",
     "output_type": "error",
     "traceback": [
      "\u001B[0;31m---------------------------------------------------------------------------\u001B[0m",
      "\u001B[0;31mModuleNotFoundError\u001B[0m                       Traceback (most recent call last)",
      "\u001B[0;32m/var/folders/46/c4pdrzp93bg5wmm6lvyhv4r00000gp/T/ipykernel_95281/3387872405.py\u001B[0m in \u001B[0;36m<module>\u001B[0;34m\u001B[0m\n\u001B[1;32m     20\u001B[0m \u001B[0;31m# from tests.utils import create_image\u001B[0m\u001B[0;34m\u001B[0m\u001B[0;34m\u001B[0m\u001B[0m\n\u001B[1;32m     21\u001B[0m \u001B[0;31m# from tests.fixtures.pipeline import get_sagemaker_pipeline\u001B[0m\u001B[0;34m\u001B[0m\u001B[0;34m\u001B[0m\u001B[0m\n\u001B[0;32m---> 22\u001B[0;31m \u001B[0;32mfrom\u001B[0m \u001B[0mtests\u001B[0m\u001B[0;34m.\u001B[0m\u001B[0mfixtures\u001B[0m\u001B[0;34m.\u001B[0m\u001B[0mimage_details\u001B[0m \u001B[0;32mimport\u001B[0m \u001B[0mIMAGE_1_URI\u001B[0m\u001B[0;34m,\u001B[0m \u001B[0mIMAGE_2_URI\u001B[0m\u001B[0;34m\u001B[0m\u001B[0;34m\u001B[0m\u001B[0m\n\u001B[0m\u001B[1;32m     23\u001B[0m \u001B[0;32mfrom\u001B[0m \u001B[0mmoto\u001B[0m \u001B[0;32mimport\u001B[0m \u001B[0mmock_ecr\u001B[0m\u001B[0;34m\u001B[0m\u001B[0;34m\u001B[0m\u001B[0m\n\u001B[1;32m     24\u001B[0m \u001B[0;32mimport\u001B[0m \u001B[0mboto3\u001B[0m\u001B[0;34m\u001B[0m\u001B[0;34m\u001B[0m\u001B[0m\n",
      "\u001B[0;31mModuleNotFoundError\u001B[0m: No module named 'tests.fixtures'"
     ]
    }
   ],
   "source": [
    "%load_ext autoreload\n",
    "%autoreload 2\n",
    "import sys\n",
    "sys.path.append('../..')\n",
    "\n",
    "from sagemaker.processing import NetworkConfig\n",
    "from sagemaker.workflow.parameters import ParameterString\n",
    "from sagemaker_rightline.model import Configuration\n",
    "from sagemaker_rightline.validations import (\n",
    "    StepImagesExist,\n",
    "    StepKmsKeyIdAsExpected,\n",
    "    PipelineParametersAsExpected,\n",
    "    ContainerImage,\n",
    "    StepNetworkConfigAsExpected,\n",
    "    StepLambdaFunctionExists,\n",
    "    StepRoleNameExists,\n",
    "    StepRoleNameAsExpected,\n",
    ")\n",
    "from sagemaker_rightline.rules import Equals, Contains\n",
    "# from tests.utils import create_image\n",
    "# from tests.fixtures.pipeline import get_sagemaker_pipeline\n",
    "# from tests.fixtures.image_details import IMAGE_1_URI, IMAGE_2_URI\n",
    "from moto import mock_ecr\n",
    "import boto3"
   ]
  },
  {
   "cell_type": "code",
   "execution_count": 13,
   "metadata": {},
   "outputs": [
    {
     "name": "stdout",
     "output_type": "stream",
     "text": [
      "zsh:1: no matches found: [dev]\r\n"
     ]
    }
   ],
   "source": []
  },
  {
   "cell_type": "markdown",
   "metadata": {},
   "source": [
    "## Fetching SM Pipeline"
   ]
  },
  {
   "cell_type": "code",
   "execution_count": 14,
   "metadata": {},
   "outputs": [
    {
     "ename": "NameError",
     "evalue": "name 'get_sagemaker_pipeline' is not defined",
     "output_type": "error",
     "traceback": [
      "\u001B[0;31m---------------------------------------------------------------------------\u001B[0m",
      "\u001B[0;31mNameError\u001B[0m                                 Traceback (most recent call last)",
      "\u001B[0;32m/var/folders/46/c4pdrzp93bg5wmm6lvyhv4r00000gp/T/ipykernel_95281/1205054793.py\u001B[0m in \u001B[0;36m<module>\u001B[0;34m\u001B[0m\n\u001B[0;32m----> 1\u001B[0;31m \u001B[0msm_pipeline\u001B[0m \u001B[0;34m=\u001B[0m \u001B[0mget_sagemaker_pipeline\u001B[0m\u001B[0;34m(\u001B[0m\u001B[0mscript_path\u001B[0m\u001B[0;34m=\u001B[0m\u001B[0;34m\"../tests/fixtures/fake_processing_script.py\"\u001B[0m\u001B[0;34m)\u001B[0m\u001B[0;34m\u001B[0m\u001B[0;34m\u001B[0m\u001B[0m\n\u001B[0m",
      "\u001B[0;31mNameError\u001B[0m: name 'get_sagemaker_pipeline' is not defined"
     ]
    }
   ],
   "source": [
    "sm_pipeline = get_sagemaker_pipeline(script_path=\"../tests/fixtures/fake_processing_script.py\")"
   ]
  },
  {
   "cell_type": "markdown",
   "metadata": {},
   "source": [
    "## Defining function that validates the SM Pipeline"
   ]
  },
  {
   "cell_type": "markdown",
   "metadata": {},
   "source": [
    "Note: In order to run this example offline/without AWS access, we're mocking ECR and publishing two mock images to it."
   ]
  },
  {
   "cell_type": "code",
   "execution_count": 3,
   "metadata": {},
   "outputs": [],
   "source": [
    "@mock_ecr\n",
    "@create_image(\n",
    "    boto3.client(\"ecr\"), [ContainerImage(uri=IMAGE_1_URI), ContainerImage(uri=IMAGE_2_URI)]\n",
    ")\n",
    "def validate_sm_pipeline(sm_pipeline: \"sagemaker.workflow.pipeline.Pipeline\") -> \"pandas.DataFrame\":\n",
    "    validations = [\n",
    "        StepImagesExist(),\n",
    "        PipelineParametersAsExpected(\n",
    "            parameters_expected=[\n",
    "                ParameterString(\n",
    "                    name=\"parameter-1\",\n",
    "                    default_value=\"some-value\",\n",
    "                ),\n",
    "            ],\n",
    "            rule=Contains(),\n",
    "        ),\n",
    "        StepKmsKeyIdAsExpected(\n",
    "            kms_key_id_expected=\"some/kms-key-alias\",\n",
    "            step_name=\"sm_training_step_sklearn\",  # optional: if not set, will check all steps\n",
    "            rule=Equals(),\n",
    "        ),\n",
    "        StepNetworkConfigAsExpected(\n",
    "            network_config_expected=NetworkConfig(\n",
    "                enable_network_isolation=False,\n",
    "                security_group_ids=[\"sg-1234567890\"],\n",
    "                subnets=[\"subnet-1234567890\"],\n",
    "            ),\n",
    "            rule=Equals(negative=True),\n",
    "        ),\n",
    "        StepLambdaFunctionExists(),\n",
    "        StepRoleNameExists(),\n",
    "        StepRoleNameAsExpected(\n",
    "            role_name_expected=\"some-role-name\",\n",
    "            step_name=\"sm_training_step_sklearn\",  # optional: if not set, will check all steps\n",
    "            rule=Equals(),\n",
    "        ),\n",
    "    ]\n",
    "    cm = Configuration(\n",
    "        validations=validations,\n",
    "        sagemaker_pipeline=sm_pipeline,\n",
    "    )\n",
    "    return cm.run(return_df=True)"
   ]
  },
  {
   "cell_type": "markdown",
   "metadata": {},
   "source": [
    "## Running the validation and printing the report"
   ]
  },
  {
   "cell_type": "code",
   "execution_count": 34,
   "metadata": {},
   "outputs": [],
   "source": [
    "report = validate_sm_pipeline(sm_pipeline)"
   ]
  },
  {
   "cell_type": "code",
   "execution_count": 36,
   "metadata": {},
   "outputs": [
    {
     "data": {
      "text/html": [
       "<div>\n",
       "<style scoped>\n",
       "    .dataframe tbody tr th:only-of-type {\n",
       "        vertical-align: middle;\n",
       "    }\n",
       "\n",
       "    .dataframe tbody tr th {\n",
       "        vertical-align: top;\n",
       "    }\n",
       "\n",
       "    .dataframe thead th {\n",
       "        text-align: right;\n",
       "    }\n",
       "</style>\n",
       "<table border=\"1\" class=\"dataframe\">\n",
       "  <thead>\n",
       "    <tr style=\"text-align: right;\">\n",
       "      <th></th>\n",
       "      <th>validation_name</th>\n",
       "      <th>subject</th>\n",
       "      <th>success</th>\n",
       "      <th>message</th>\n",
       "    </tr>\n",
       "  </thead>\n",
       "  <tbody>\n",
       "    <tr>\n",
       "      <th>0</th>\n",
       "      <td>StepImagesExist</td>\n",
       "      <td>['123456789012.dkr.ecr.eu-west-1.amazonaws.com...</td>\n",
       "      <td>True</td>\n",
       "      <td>Images ['123456789012.dkr.ecr.eu-west-1.amazon...</td>\n",
       "    </tr>\n",
       "    <tr>\n",
       "      <th>1</th>\n",
       "      <td>PipelineParametersAsExpected</td>\n",
       "      <td>[ParameterString(name='parameter-1', parameter...</td>\n",
       "      <td>False</td>\n",
       "      <td>[ParameterString(name='parameter-1', parameter...</td>\n",
       "    </tr>\n",
       "    <tr>\n",
       "      <th>2</th>\n",
       "      <td>StepKmsKeyIdAsExpected</td>\n",
       "      <td>['some/kms-key-alias']</td>\n",
       "      <td>True</td>\n",
       "      <td>['some/kms-key-alias'] does equal ['some/kms-k...</td>\n",
       "    </tr>\n",
       "    <tr>\n",
       "      <th>3</th>\n",
       "      <td>StepNetworkConfigAsExpected</td>\n",
       "      <td>[{'enable_network_isolation': False, 'security...</td>\n",
       "      <td>False</td>\n",
       "      <td>[None] does not equal [{'enable_network_isolat...</td>\n",
       "    </tr>\n",
       "  </tbody>\n",
       "</table>\n",
       "</div>"
      ],
      "text/plain": [
       "        validation_name                                            subject   \n",
       "0  StepImagesExist  ['123456789012.dkr.ecr.eu-west-1.amazonaws.com...  \\\n",
       "1    PipelineParametersAsExpected  [ParameterString(name='parameter-1', parameter...   \n",
       "2          StepKmsKeyIdAsExpected                             ['some/kms-key-alias']   \n",
       "3     StepNetworkConfigAsExpected  [{'enable_network_isolation': False, 'security...   \n",
       "\n",
       "  success                                            message  \n",
       "0    True  Images ['123456789012.dkr.ecr.eu-west-1.amazon...  \n",
       "1   False  [ParameterString(name='parameter-1', parameter...  \n",
       "2    True  ['some/kms-key-alias'] does equal ['some/kms-k...  \n",
       "3   False  [None] does not equal [{'enable_network_isolat...  "
      ]
     },
     "execution_count": 36,
     "metadata": {},
     "output_type": "execute_result"
    }
   ],
   "source": [
    "report"
   ]
  }
 ],
 "metadata": {
  "kernelspec": {
   "display_name": "Python 3 (ipykernel)",
   "language": "python",
   "name": "python3"
  },
  "language_info": {
   "codemirror_mode": {
    "name": "ipython",
    "version": 3
   },
   "file_extension": ".py",
   "mimetype": "text/x-python",
   "name": "python",
   "nbconvert_exporter": "python",
   "pygments_lexer": "ipython3",
   "version": "3.9.16"
  }
 },
 "nbformat": 4,
 "nbformat_minor": 1
}
