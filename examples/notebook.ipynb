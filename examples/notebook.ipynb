{
 "cells": [
  {
   "cell_type": "code",
   "execution_count": null,
   "metadata": {},
   "outputs": [],
   "source": [
    "%load_ext autoreload\n",
    "%autoreload 2\n",
    "import sys\n",
    "sys.path.append('../..')\n",
    "\n",
    "from sagemaker.processing import NetworkConfig, ProcessingInput, ProcessingOutput\n",
    "from sagemaker.workflow.parameters import ParameterString\n",
    "from sagemaker_rightline.model import Configuration\n",
    "from sagemaker_rightline.validations import (\n",
    "    StepImagesExist,\n",
    "    StepKmsKeyIdAsExpected,\n",
    "    PipelineParametersAsExpected,\n",
    "    ContainerImage,\n",
    "    StepNetworkConfigAsExpected,\n",
    "    StepLambdaFunctionExists,\n",
    "    StepRoleNameExists,\n",
    "    StepRoleNameAsExpected,\n",
    "    StepInputsAsExpected,\n",
    "    StepOutputsAsExpected,\n",
    "    StepOutputsMatchInputsAsExpected,\n",
    ")\n",
    "from sagemaker_rightline.rules import Equals, Contains\n",
    "from tests.utils import create_image\n",
    "from tests.fixtures.pipeline import get_sagemaker_pipeline, DUMMY_BUCKET\n",
    "from tests.fixtures.image_details import IMAGE_1_URI, IMAGE_2_URI\n",
    "from moto import mock_ecr\n",
    "import boto3"
   ]
  },
  {
   "cell_type": "markdown",
   "metadata": {},
   "source": [
    "## Fetching SM Pipeline"
   ]
  },
  {
   "cell_type": "code",
   "execution_count": null,
   "metadata": {},
   "outputs": [],
   "source": [
    "sm_pipeline = get_sagemaker_pipeline(script_path=\"../tests/fixtures/fake_processing_script.py\")"
   ]
  },
  {
   "cell_type": "markdown",
   "metadata": {},
   "source": [
    "## Defining function that validates the SM Pipeline"
   ]
  },
  {
   "cell_type": "markdown",
   "metadata": {},
   "source": [
    "Note: In order to run this example offline/without AWS access, we're mocking ECR and publishing two mock images to it."
   ]
  },
  {
   "cell_type": "code",
   "execution_count": null,
   "metadata": {},
   "outputs": [],
   "source": [
    "@mock_ecr\n",
    "@create_image(\n",
    "    boto3.client(\"ecr\"), [ContainerImage(uri=IMAGE_1_URI), ContainerImage(uri=IMAGE_2_URI)]\n",
    ")\n",
    "def validate_sm_pipeline(sm_pipeline: \"sagemaker.workflow.pipeline.Pipeline\") -> \"pandas.DataFrame\":\n",
    "    validations = [\n",
    "        StepImagesExist(),\n",
    "        PipelineParametersAsExpected(\n",
    "            parameters_expected=[\n",
    "                ParameterString(\n",
    "                    name=\"parameter-1\",\n",
    "                    default_value=\"some-value\",\n",
    "                ),\n",
    "            ],\n",
    "            rule=Contains(),\n",
    "        ),\n",
    "        StepKmsKeyIdAsExpected(\n",
    "            kms_key_id_expected=\"some/kms-key-alias\",\n",
    "            step_name=\"sm_training_step_sklearn\",  # optional: if not set, will check all steps\n",
    "            rule=Equals(),\n",
    "        ),\n",
    "        StepNetworkConfigAsExpected(\n",
    "            network_config_expected=NetworkConfig(\n",
    "                enable_network_isolation=False,\n",
    "                security_group_ids=[\"sg-1234567890\"],\n",
    "                subnets=[\"subnet-1234567890\"],\n",
    "            ),\n",
    "            rule=Equals(negative=True),\n",
    "        ),\n",
    "        StepLambdaFunctionExists(),\n",
    "        StepRoleNameExists(),\n",
    "        StepRoleNameAsExpected(\n",
    "            role_name_expected=\"some-role-name\",\n",
    "            step_name=\"sm_training_step_sklearn\",  # optional: if not set, will check all steps\n",
    "            rule=Equals(),\n",
    "        ),\n",
    "        StepInputsAsExpected(\n",
    "            inputs_expected=[\n",
    "                ProcessingInput(\n",
    "                    source=f\"s3://{DUMMY_BUCKET}/input-1\",\n",
    "                    destination=\"/opt/ml/processing/input\",\n",
    "                    input_name=\"input-2\",\n",
    "                )\n",
    "            ],\n",
    "            step_type=\"Processing\",  # either step_type or step_name must be set to filter\n",
    "            rule=Contains(),\n",
    "        ),\n",
    "        StepOutputsAsExpected(\n",
    "            outputs_expected=[\n",
    "                ProcessingOutput(\n",
    "                    source=\"/opt/ml/processing/output\",\n",
    "                    destination=f\"s3://{DUMMY_BUCKET}/output-1\",\n",
    "                    output_name=\"output-1\",\n",
    "                )\n",
    "            ],\n",
    "            step_name=\"sm_processing_step_spark\",  # optional\n",
    "            rule=Contains(),\n",
    "        ),\n",
    "        StepOutputsMatchInputsAsExpected(\n",
    "            inputs_outputs_expected=[\n",
    "                {\n",
    "                    \"input\": {\n",
    "                        \"step_name\": \"sm_processing_step_sklearn\",\n",
    "                        \"input_name\": \"input-1\",\n",
    "                    },\n",
    "                    \"output\": {\n",
    "                        \"step_name\": \"sm_processing_step_sklearn\",\n",
    "                        \"output_name\": \"output-1\",\n",
    "                    },\n",
    "                }\n",
    "            ]\n",
    "        ),\n",
    "    ]\n",
    "    cm = Configuration(\n",
    "        validations=validations,\n",
    "        sagemaker_pipeline=sm_pipeline,\n",
    "    )\n",
    "    return cm.run(return_df=True)"
   ]
  },
  {
   "cell_type": "markdown",
   "metadata": {},
   "source": [
    "## Running the validation and printing the report"
   ]
  },
  {
   "cell_type": "code",
   "execution_count": null,
   "metadata": {},
   "outputs": [],
   "source": [
    "report = validate_sm_pipeline(sm_pipeline)"
   ]
  },
  {
   "cell_type": "code",
   "execution_count": null,
   "metadata": {},
   "outputs": [],
   "source": [
    "report"
   ]
  }
 ],
 "metadata": {
  "kernelspec": {
   "display_name": "Python 3 (ipykernel)",
   "language": "python",
   "name": "python3"
  },
  "language_info": {
   "codemirror_mode": {
    "name": "ipython",
    "version": 3
   },
   "file_extension": ".py",
   "mimetype": "text/x-python",
   "name": "python",
   "nbconvert_exporter": "python",
   "pygments_lexer": "ipython3",
   "version": "3.9.16"
  }
 },
 "nbformat": 4,
 "nbformat_minor": 1
}
