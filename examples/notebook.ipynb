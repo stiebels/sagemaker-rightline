{
 "cells": [
  {
   "cell_type": "code",
   "execution_count": 1,
   "metadata": {},
   "outputs": [
    {
     "ename": "ModuleNotFoundError",
     "evalue": "No module named 'sagemaker'",
     "output_type": "error",
     "traceback": [
      "\u001b[0;31m---------------------------------------------------------------------------\u001b[0m",
      "\u001b[0;31mModuleNotFoundError\u001b[0m                       Traceback (most recent call last)",
      "Cell \u001b[0;32mIn[1], line 6\u001b[0m\n\u001b[1;32m      3\u001b[0m \u001b[38;5;28;01mimport\u001b[39;00m \u001b[38;5;21;01msys\u001b[39;00m\n\u001b[1;32m      4\u001b[0m sys\u001b[38;5;241m.\u001b[39mpath\u001b[38;5;241m.\u001b[39mappend(\u001b[38;5;124m'\u001b[39m\u001b[38;5;124m../..\u001b[39m\u001b[38;5;124m'\u001b[39m)\n\u001b[0;32m----> 6\u001b[0m \u001b[38;5;28;01mfrom\u001b[39;00m \u001b[38;5;21;01msagemaker\u001b[39;00m\u001b[38;5;21;01m.\u001b[39;00m\u001b[38;5;21;01mprocessing\u001b[39;00m \u001b[38;5;28;01mimport\u001b[39;00m NetworkConfig, ProcessingInput, ProcessingOutput\n\u001b[1;32m      7\u001b[0m \u001b[38;5;28;01mfrom\u001b[39;00m \u001b[38;5;21;01msagemaker\u001b[39;00m\u001b[38;5;21;01m.\u001b[39;00m\u001b[38;5;21;01mworkflow\u001b[39;00m\u001b[38;5;21;01m.\u001b[39;00m\u001b[38;5;21;01mparameters\u001b[39;00m \u001b[38;5;28;01mimport\u001b[39;00m ParameterString\n\u001b[1;32m      8\u001b[0m \u001b[38;5;28;01mfrom\u001b[39;00m \u001b[38;5;21;01msagemaker_rightline\u001b[39;00m\u001b[38;5;21;01m.\u001b[39;00m\u001b[38;5;21;01mmodel\u001b[39;00m \u001b[38;5;28;01mimport\u001b[39;00m Configuration\n",
      "\u001b[0;31mModuleNotFoundError\u001b[0m: No module named 'sagemaker'"
     ]
    }
   ],
   "source": [
    "%load_ext autoreload\n",
    "%autoreload 2\n",
    "import sys\n",
    "sys.path.append('../..')\n",
    "\n",
    "from sagemaker.processing import NetworkConfig, ProcessingInput, ProcessingOutput\n",
    "from sagemaker.workflow.parameters import ParameterString\n",
    "from sagemaker_rightline.model import Configuration\n",
    "from sagemaker_rightline.validations import (\n",
    "    StepImagesExist,\n",
    "    StepKmsKeyIdAsExpected,\n",
    "    PipelineParametersAsExpected,\n",
    "    ContainerImage,\n",
    "    StepNetworkConfigAsExpected,\n",
    "    StepLambdaFunctionExists,\n",
    "    StepRoleNameExists,\n",
    "    StepRoleNameAsExpected,\n",
    "    StepInputsAsExpected,\n",
    "    StepOutputsAsExpected,\n",
    "    StepOutputsMatchInputsAsExpected,\n",
    "    StepCallbackSqsQueueExists,\n",
    ")\n",
    "from sagemaker_rightline.rules import Equals, Contains\n",
    "from tests.utils import create_image\n",
    "from tests.fixtures.pipeline import get_sagemaker_pipeline, DUMMY_BUCKET\n",
    "from tests.fixtures.image_details import IMAGE_1_URI, IMAGE_2_URI\n",
    "from moto import mock_ecr\n",
    "import boto3"
   ]
  },
  {
   "cell_type": "code",
   "execution_count": 9,
   "metadata": {},
   "outputs": [],
   "source": [
    "sys.path.append('../..')\n"
   ]
  },
  {
   "cell_type": "code",
   "execution_count": null,
   "metadata": {},
   "outputs": [],
   "source": []
  },
  {
   "cell_type": "code",
   "execution_count": 8,
   "metadata": {},
   "outputs": [
    {
     "name": "stdout",
     "output_type": "stream",
     "text": [
      "Processing /Users/stiebels/Desktop/projects/sagemaker-rightline\n",
      "  Installing build dependencies ... \u001b[?25ldone\n",
      "\u001b[?25h  Getting requirements to build wheel ... \u001b[?25lerror\n",
      "  \u001b[1;31merror\u001b[0m: \u001b[1msubprocess-exited-with-error\u001b[0m\n",
      "  \n",
      "  \u001b[31m×\u001b[0m \u001b[32mGetting requirements to build wheel\u001b[0m did not run successfully.\n",
      "  \u001b[31m│\u001b[0m exit code: \u001b[1;36m1\u001b[0m\n",
      "  \u001b[31m╰─>\u001b[0m \u001b[31m[93 lines of output]\u001b[0m\n",
      "  \u001b[31m   \u001b[0m No `packages` or `py_modules` configuration, performing automatic discovery.\n",
      "  \u001b[31m   \u001b[0m `flat-layout` detected -- analysing .\n",
      "  \u001b[31m   \u001b[0m discovered packages -- ['sagemaker_rightline', 'create', 'sagemaker_rightline.cli', 'create.bin', 'create.include', 'create.lib']\n",
      "  \u001b[31m   \u001b[0m Traceback (most recent call last):\n",
      "  \u001b[31m   \u001b[0m   File \"/Library/Frameworks/Python.framework/Versions/3.12/lib/python3.12/site-packages/pip/_vendor/pyproject_hooks/_in_process/_in_process.py\", line 353, in <module>\n",
      "  \u001b[31m   \u001b[0m     main()\n",
      "  \u001b[31m   \u001b[0m   File \"/Library/Frameworks/Python.framework/Versions/3.12/lib/python3.12/site-packages/pip/_vendor/pyproject_hooks/_in_process/_in_process.py\", line 335, in main\n",
      "  \u001b[31m   \u001b[0m     json_out['return_val'] = hook(**hook_input['kwargs'])\n",
      "  \u001b[31m   \u001b[0m                              ^^^^^^^^^^^^^^^^^^^^^^^^^^^^\n",
      "  \u001b[31m   \u001b[0m   File \"/Library/Frameworks/Python.framework/Versions/3.12/lib/python3.12/site-packages/pip/_vendor/pyproject_hooks/_in_process/_in_process.py\", line 118, in get_requires_for_build_wheel\n",
      "  \u001b[31m   \u001b[0m     return hook(config_settings)\n",
      "  \u001b[31m   \u001b[0m            ^^^^^^^^^^^^^^^^^^^^^\n",
      "  \u001b[31m   \u001b[0m   File \"/private/var/folders/tb/ymrf67t95g5dmgvs4ymhp8vm0000gn/T/pip-build-env-3ox7fxd9/overlay/lib/python3.12/site-packages/setuptools/build_meta.py\", line 355, in get_requires_for_build_wheel\n",
      "  \u001b[31m   \u001b[0m     return self._get_build_requires(config_settings, requirements=['wheel'])\n",
      "  \u001b[31m   \u001b[0m            ^^^^^^^^^^^^^^^^^^^^^^^^^^^^^^^^^^^^^^^^^^^^^^^^^^^^^^^^^^^^^^^^^\n",
      "  \u001b[31m   \u001b[0m   File \"/private/var/folders/tb/ymrf67t95g5dmgvs4ymhp8vm0000gn/T/pip-build-env-3ox7fxd9/overlay/lib/python3.12/site-packages/setuptools/build_meta.py\", line 325, in _get_build_requires\n",
      "  \u001b[31m   \u001b[0m     self.run_setup()\n",
      "  \u001b[31m   \u001b[0m   File \"/private/var/folders/tb/ymrf67t95g5dmgvs4ymhp8vm0000gn/T/pip-build-env-3ox7fxd9/overlay/lib/python3.12/site-packages/setuptools/build_meta.py\", line 341, in run_setup\n",
      "  \u001b[31m   \u001b[0m     exec(code, locals())\n",
      "  \u001b[31m   \u001b[0m   File \"<string>\", line 1, in <module>\n",
      "  \u001b[31m   \u001b[0m   File \"/private/var/folders/tb/ymrf67t95g5dmgvs4ymhp8vm0000gn/T/pip-build-env-3ox7fxd9/overlay/lib/python3.12/site-packages/setuptools/__init__.py\", line 103, in setup\n",
      "  \u001b[31m   \u001b[0m     return distutils.core.setup(**attrs)\n",
      "  \u001b[31m   \u001b[0m            ^^^^^^^^^^^^^^^^^^^^^^^^^^^^^\n",
      "  \u001b[31m   \u001b[0m   File \"/private/var/folders/tb/ymrf67t95g5dmgvs4ymhp8vm0000gn/T/pip-build-env-3ox7fxd9/overlay/lib/python3.12/site-packages/setuptools/_distutils/core.py\", line 159, in setup\n",
      "  \u001b[31m   \u001b[0m     dist.parse_config_files()\n",
      "  \u001b[31m   \u001b[0m   File \"/private/var/folders/tb/ymrf67t95g5dmgvs4ymhp8vm0000gn/T/pip-build-env-3ox7fxd9/overlay/lib/python3.12/site-packages/setuptools/dist.py\", line 653, in parse_config_files\n",
      "  \u001b[31m   \u001b[0m     pyprojecttoml.apply_configuration(self, filename, ignore_option_errors)\n",
      "  \u001b[31m   \u001b[0m   File \"/private/var/folders/tb/ymrf67t95g5dmgvs4ymhp8vm0000gn/T/pip-build-env-3ox7fxd9/overlay/lib/python3.12/site-packages/setuptools/config/pyprojecttoml.py\", line 66, in apply_configuration\n",
      "  \u001b[31m   \u001b[0m     config = read_configuration(filepath, True, ignore_option_errors, dist)\n",
      "  \u001b[31m   \u001b[0m              ^^^^^^^^^^^^^^^^^^^^^^^^^^^^^^^^^^^^^^^^^^^^^^^^^^^^^^^^^^^^^^\n",
      "  \u001b[31m   \u001b[0m   File \"/private/var/folders/tb/ymrf67t95g5dmgvs4ymhp8vm0000gn/T/pip-build-env-3ox7fxd9/overlay/lib/python3.12/site-packages/setuptools/config/pyprojecttoml.py\", line 131, in read_configuration\n",
      "  \u001b[31m   \u001b[0m     return expand_configuration(asdict, root_dir, ignore_option_errors, dist)\n",
      "  \u001b[31m   \u001b[0m            ^^^^^^^^^^^^^^^^^^^^^^^^^^^^^^^^^^^^^^^^^^^^^^^^^^^^^^^^^^^^^^^^^^\n",
      "  \u001b[31m   \u001b[0m   File \"/private/var/folders/tb/ymrf67t95g5dmgvs4ymhp8vm0000gn/T/pip-build-env-3ox7fxd9/overlay/lib/python3.12/site-packages/setuptools/config/pyprojecttoml.py\", line 156, in expand_configuration\n",
      "  \u001b[31m   \u001b[0m     return _ConfigExpander(config, root_dir, ignore_option_errors, dist).expand()\n",
      "  \u001b[31m   \u001b[0m            ^^^^^^^^^^^^^^^^^^^^^^^^^^^^^^^^^^^^^^^^^^^^^^^^^^^^^^^^^^^^^^^^^^^^^^\n",
      "  \u001b[31m   \u001b[0m   File \"/private/var/folders/tb/ymrf67t95g5dmgvs4ymhp8vm0000gn/T/pip-build-env-3ox7fxd9/overlay/lib/python3.12/site-packages/setuptools/config/pyprojecttoml.py\", line 204, in expand\n",
      "  \u001b[31m   \u001b[0m     self._expand_all_dynamic(dist, package_dir)\n",
      "  \u001b[31m   \u001b[0m   File \"/private/var/folders/tb/ymrf67t95g5dmgvs4ymhp8vm0000gn/T/pip-build-env-3ox7fxd9/overlay/lib/python3.12/site-packages/setuptools/config/pyprojecttoml.py\", line 249, in _expand_all_dynamic\n",
      "  \u001b[31m   \u001b[0m     version=self._obtain_version(dist, package_dir),\n",
      "  \u001b[31m   \u001b[0m             ^^^^^^^^^^^^^^^^^^^^^^^^^^^^^^^^^^^^^^^\n",
      "  \u001b[31m   \u001b[0m   File \"/private/var/folders/tb/ymrf67t95g5dmgvs4ymhp8vm0000gn/T/pip-build-env-3ox7fxd9/overlay/lib/python3.12/site-packages/setuptools/config/pyprojecttoml.py\", line 298, in _obtain_version\n",
      "  \u001b[31m   \u001b[0m     return _expand.version(self._obtain(dist, \"version\", package_dir))\n",
      "  \u001b[31m   \u001b[0m                            ^^^^^^^^^^^^^^^^^^^^^^^^^^^^^^^^^^^^^^^^^^\n",
      "  \u001b[31m   \u001b[0m   File \"/private/var/folders/tb/ymrf67t95g5dmgvs4ymhp8vm0000gn/T/pip-build-env-3ox7fxd9/overlay/lib/python3.12/site-packages/setuptools/config/pyprojecttoml.py\", line 287, in _obtain\n",
      "  \u001b[31m   \u001b[0m     return self._expand_directive(\n",
      "  \u001b[31m   \u001b[0m            ^^^^^^^^^^^^^^^^^^^^^^^\n",
      "  \u001b[31m   \u001b[0m   File \"/private/var/folders/tb/ymrf67t95g5dmgvs4ymhp8vm0000gn/T/pip-build-env-3ox7fxd9/overlay/lib/python3.12/site-packages/setuptools/config/pyprojecttoml.py\", line 281, in _expand_directive\n",
      "  \u001b[31m   \u001b[0m     return _expand.read_attr(directive[\"attr\"], package_dir, root_dir)\n",
      "  \u001b[31m   \u001b[0m            ^^^^^^^^^^^^^^^^^^^^^^^^^^^^^^^^^^^^^^^^^^^^^^^^^^^^^^^^^^^\n",
      "  \u001b[31m   \u001b[0m   File \"/private/var/folders/tb/ymrf67t95g5dmgvs4ymhp8vm0000gn/T/pip-build-env-3ox7fxd9/overlay/lib/python3.12/site-packages/setuptools/config/expand.py\", line 189, in read_attr\n",
      "  \u001b[31m   \u001b[0m     _parent_path, path, module_name = _find_module(module_name, package_dir, root_dir)\n",
      "  \u001b[31m   \u001b[0m                                       ^^^^^^^^^^^^^^^^^^^^^^^^^^^^^^^^^^^^^^^^^^^^^^^^\n",
      "  \u001b[31m   \u001b[0m   File \"/private/var/folders/tb/ymrf67t95g5dmgvs4ymhp8vm0000gn/T/pip-build-env-3ox7fxd9/overlay/lib/python3.12/site-packages/setuptools/config/expand.py\", line 230, in _find_module\n",
      "  \u001b[31m   \u001b[0m     if package_dir:\n",
      "  \u001b[31m   \u001b[0m        ^^^^^^^^^^^\n",
      "  \u001b[31m   \u001b[0m   File \"/private/var/folders/tb/ymrf67t95g5dmgvs4ymhp8vm0000gn/T/pip-build-env-3ox7fxd9/overlay/lib/python3.12/site-packages/setuptools/config/expand.py\", line 460, in __len__\n",
      "  \u001b[31m   \u001b[0m     return len(self._target())\n",
      "  \u001b[31m   \u001b[0m                ^^^^^^^^^^^^^^\n",
      "  \u001b[31m   \u001b[0m   File \"/private/var/folders/tb/ymrf67t95g5dmgvs4ymhp8vm0000gn/T/pip-build-env-3ox7fxd9/overlay/lib/python3.12/site-packages/setuptools/config/expand.py\", line 453, in _target\n",
      "  \u001b[31m   \u001b[0m     self._value = self._obtain()\n",
      "  \u001b[31m   \u001b[0m                   ^^^^^^^^^^^^^^\n",
      "  \u001b[31m   \u001b[0m   File \"/private/var/folders/tb/ymrf67t95g5dmgvs4ymhp8vm0000gn/T/pip-build-env-3ox7fxd9/overlay/lib/python3.12/site-packages/setuptools/config/expand.py\", line 423, in _get_package_dir\n",
      "  \u001b[31m   \u001b[0m     self()\n",
      "  \u001b[31m   \u001b[0m   File \"/private/var/folders/tb/ymrf67t95g5dmgvs4ymhp8vm0000gn/T/pip-build-env-3ox7fxd9/overlay/lib/python3.12/site-packages/setuptools/config/expand.py\", line 413, in __call__\n",
      "  \u001b[31m   \u001b[0m     self._dist.set_defaults(name=False)  # Skip name, we can still be parsing\n",
      "  \u001b[31m   \u001b[0m     ^^^^^^^^^^^^^^^^^^^^^^^^^^^^^^^^^^^\n",
      "  \u001b[31m   \u001b[0m   File \"/private/var/folders/tb/ymrf67t95g5dmgvs4ymhp8vm0000gn/T/pip-build-env-3ox7fxd9/overlay/lib/python3.12/site-packages/setuptools/discovery.py\", line 353, in __call__\n",
      "  \u001b[31m   \u001b[0m     self._analyse_package_layout(ignore_ext_modules)\n",
      "  \u001b[31m   \u001b[0m   File \"/private/var/folders/tb/ymrf67t95g5dmgvs4ymhp8vm0000gn/T/pip-build-env-3ox7fxd9/overlay/lib/python3.12/site-packages/setuptools/discovery.py\", line 387, in _analyse_package_layout\n",
      "  \u001b[31m   \u001b[0m     or self._analyse_flat_layout()\n",
      "  \u001b[31m   \u001b[0m        ^^^^^^^^^^^^^^^^^^^^^^^^^^^\n",
      "  \u001b[31m   \u001b[0m   File \"/private/var/folders/tb/ymrf67t95g5dmgvs4ymhp8vm0000gn/T/pip-build-env-3ox7fxd9/overlay/lib/python3.12/site-packages/setuptools/discovery.py\", line 444, in _analyse_flat_layout\n",
      "  \u001b[31m   \u001b[0m     return self._analyse_flat_packages() or self._analyse_flat_modules()\n",
      "  \u001b[31m   \u001b[0m            ^^^^^^^^^^^^^^^^^^^^^^^^^^^^^\n",
      "  \u001b[31m   \u001b[0m   File \"/private/var/folders/tb/ymrf67t95g5dmgvs4ymhp8vm0000gn/T/pip-build-env-3ox7fxd9/overlay/lib/python3.12/site-packages/setuptools/discovery.py\", line 450, in _analyse_flat_packages\n",
      "  \u001b[31m   \u001b[0m     self._ensure_no_accidental_inclusion(top_level, \"packages\")\n",
      "  \u001b[31m   \u001b[0m   File \"/private/var/folders/tb/ymrf67t95g5dmgvs4ymhp8vm0000gn/T/pip-build-env-3ox7fxd9/overlay/lib/python3.12/site-packages/setuptools/discovery.py\", line 480, in _ensure_no_accidental_inclusion\n",
      "  \u001b[31m   \u001b[0m     raise PackageDiscoveryError(cleandoc(msg))\n",
      "  \u001b[31m   \u001b[0m setuptools.errors.PackageDiscoveryError: Multiple top-level packages discovered in a flat-layout: ['create', 'sagemaker_rightline'].\n",
      "  \u001b[31m   \u001b[0m \n",
      "  \u001b[31m   \u001b[0m To avoid accidental inclusion of unwanted files or directories,\n",
      "  \u001b[31m   \u001b[0m setuptools will not proceed with this build.\n",
      "  \u001b[31m   \u001b[0m \n",
      "  \u001b[31m   \u001b[0m If you are trying to create a single distribution with multiple packages\n",
      "  \u001b[31m   \u001b[0m on purpose, you should not rely on automatic discovery.\n",
      "  \u001b[31m   \u001b[0m Instead, consider the following options:\n",
      "  \u001b[31m   \u001b[0m \n",
      "  \u001b[31m   \u001b[0m 1. set up custom discovery (`find` directive with `include` or `exclude`)\n",
      "  \u001b[31m   \u001b[0m 2. use a `src-layout`\n",
      "  \u001b[31m   \u001b[0m 3. explicitly set `py_modules` or `packages` with a list of names\n",
      "  \u001b[31m   \u001b[0m \n",
      "  \u001b[31m   \u001b[0m To find more information, look for \"package discovery\" on setuptools docs.\n",
      "  \u001b[31m   \u001b[0m \u001b[31m[end of output]\u001b[0m\n",
      "  \n",
      "  \u001b[1;35mnote\u001b[0m: This error originates from a subprocess, and is likely not a problem with pip.\n",
      "\u001b[1;31merror\u001b[0m: \u001b[1msubprocess-exited-with-error\u001b[0m\n",
      "\n",
      "\u001b[31m×\u001b[0m \u001b[32mGetting requirements to build wheel\u001b[0m did not run successfully.\n",
      "\u001b[31m│\u001b[0m exit code: \u001b[1;36m1\u001b[0m\n",
      "\u001b[31m╰─>\u001b[0m See above for output.\n",
      "\n",
      "\u001b[1;35mnote\u001b[0m: This error originates from a subprocess, and is likely not a problem with pip.\n",
      "\n",
      "\u001b[1m[\u001b[0m\u001b[34;49mnotice\u001b[0m\u001b[1;39;49m]\u001b[0m\u001b[39;49m A new release of pip is available: \u001b[0m\u001b[31;49m23.2.1\u001b[0m\u001b[39;49m -> \u001b[0m\u001b[32;49m23.3.1\u001b[0m\n",
      "\u001b[1m[\u001b[0m\u001b[34;49mnotice\u001b[0m\u001b[1;39;49m]\u001b[0m\u001b[39;49m To update, run: \u001b[0m\u001b[32;49mpip3 install --upgrade pip\u001b[0m\n",
      "\u001b[?25h"
     ]
    }
   ],
   "source": [
    "!python3 -m pip install \"../.[dev]\""
   ]
  },
  {
   "cell_type": "code",
   "execution_count": 4,
   "metadata": {},
   "outputs": [
    {
     "ename": "ModuleNotFoundError",
     "evalue": "No module named 'tests.fixtures'",
     "output_type": "error",
     "traceback": [
      "\u001b[0;31m---------------------------------------------------------------------------\u001b[0m",
      "\u001b[0;31mModuleNotFoundError\u001b[0m                       Traceback (most recent call last)",
      "Cell \u001b[0;32mIn[4], line 1\u001b[0m\n\u001b[0;32m----> 1\u001b[0m \u001b[38;5;28;01mfrom\u001b[39;00m \u001b[38;5;21;01mtests\u001b[39;00m\u001b[38;5;21;01m.\u001b[39;00m\u001b[38;5;21;01mfixtures\u001b[39;00m\u001b[38;5;21;01m.\u001b[39;00m\u001b[38;5;21;01mpipeline\u001b[39;00m \u001b[38;5;28;01mimport\u001b[39;00m get_sagemaker_pipeline, DUMMY_BUCKET\n",
      "\u001b[0;31mModuleNotFoundError\u001b[0m: No module named 'tests.fixtures'"
     ]
    }
   ],
   "source": [
    "from tests.fixtures.pipeline import get_sagemaker_pipeline, DUMMY_BUCKET\n"
   ]
  },
  {
   "cell_type": "markdown",
   "metadata": {},
   "source": [
    "## Fetching SM Pipeline"
   ]
  },
  {
   "cell_type": "code",
   "execution_count": 3,
   "metadata": {},
   "outputs": [
    {
     "ename": "NameError",
     "evalue": "name 'get_sagemaker_pipeline' is not defined",
     "output_type": "error",
     "traceback": [
      "\u001b[0;31m---------------------------------------------------------------------------\u001b[0m",
      "\u001b[0;31mNameError\u001b[0m                                 Traceback (most recent call last)",
      "Cell \u001b[0;32mIn[3], line 1\u001b[0m\n\u001b[0;32m----> 1\u001b[0m sm_pipeline \u001b[38;5;241m=\u001b[39m \u001b[43mget_sagemaker_pipeline\u001b[49m(script_path\u001b[38;5;241m=\u001b[39m\u001b[38;5;124m\"\u001b[39m\u001b[38;5;124m../tests/fixtures/fake_processing_script.py\u001b[39m\u001b[38;5;124m\"\u001b[39m)\n",
      "\u001b[0;31mNameError\u001b[0m: name 'get_sagemaker_pipeline' is not defined"
     ]
    }
   ],
   "source": [
    "sm_pipeline = get_sagemaker_pipeline(script_path=\"../tests/fixtures/fake_processing_script.py\")"
   ]
  },
  {
   "cell_type": "code",
   "execution_count": null,
   "metadata": {},
   "outputs": [],
   "source": [
    "sm_pipeline.steps[2].inputs"
   ]
  },
  {
   "cell_type": "markdown",
   "metadata": {},
   "source": [
    "## Defining function that validates the SM Pipeline"
   ]
  },
  {
   "cell_type": "markdown",
   "metadata": {},
   "source": [
    "Note: In order to run this example offline/without AWS access, we're mocking ECR and publishing two mock images to it."
   ]
  },
  {
   "cell_type": "code",
   "execution_count": null,
   "metadata": {},
   "outputs": [],
   "source": [
    "@mock_ecr\n",
    "@create_image(\n",
    "    boto3.client(\"ecr\"), [ContainerImage(uri=IMAGE_1_URI), ContainerImage(uri=IMAGE_2_URI)]\n",
    ")\n",
    "def validate_sm_pipeline(sm_pipeline: \"sagemaker.workflow.pipeline.Pipeline\") -> \"pandas.DataFrame\":\n",
    "    validations = [\n",
    "        StepImagesExist(),\n",
    "        PipelineParametersAsExpected(\n",
    "            parameters_expected=[\n",
    "                ParameterString(\n",
    "                    name=\"parameter-1\",\n",
    "                    default_value=\"some-value\",\n",
    "                ),\n",
    "            ],\n",
    "            rule=Contains(),\n",
    "        ),\n",
    "        StepKmsKeyIdAsExpected(\n",
    "            kms_key_id_expected=\"some/kms-key-alias\",\n",
    "            step_name=\"sm_training_step_sklearn\",  # optional: if not set, will check all steps\n",
    "            rule=Equals(),\n",
    "        ),\n",
    "        StepNetworkConfigAsExpected(\n",
    "            network_config_expected=NetworkConfig(\n",
    "                enable_network_isolation=False,\n",
    "                security_group_ids=[\"sg-1234567890\"],\n",
    "                subnets=[\"subnet-1234567890\"],\n",
    "            ),\n",
    "            rule=Equals(negative=True),\n",
    "        ),\n",
    "        StepLambdaFunctionExists(),\n",
    "        StepRoleNameExists(),\n",
    "        StepRoleNameAsExpected(\n",
    "            role_name_expected=\"some-role-name\",\n",
    "            step_name=\"sm_training_step_sklearn\",  # optional: if not set, will check all steps\n",
    "            rule=Equals(),\n",
    "        ),\n",
    "        StepInputsAsExpected(\n",
    "            inputs_expected=[\n",
    "                ProcessingInput(\n",
    "                    source=f\"s3://{DUMMY_BUCKET}/input-1\",\n",
    "                    destination=\"/opt/ml/processing/input\",\n",
    "                    input_name=\"input-2\",\n",
    "                )\n",
    "            ],\n",
    "            step_type=\"Processing\",  # either step_type or step_name must be set to filter\n",
    "            rule=Contains(),\n",
    "        ),\n",
    "        StepOutputsAsExpected(\n",
    "            outputs_expected=[\n",
    "                ProcessingOutput(\n",
    "                    source=\"/opt/ml/processing/output\",\n",
    "                    destination=f\"s3://{DUMMY_BUCKET}/output-1\",\n",
    "                    output_name=\"output-1\",\n",
    "                )\n",
    "            ],\n",
    "            step_name=\"sm_processing_step_spark\",  # optional\n",
    "            rule=Contains(),\n",
    "        ),\n",
    "        StepOutputsMatchInputsAsExpected(\n",
    "            inputs_outputs_expected=[\n",
    "                {\n",
    "                    \"input\": {\n",
    "                        \"step_name\": \"sm_processing_step_sklearn\",\n",
    "                        \"input_name\": \"input-1\",\n",
    "                    },\n",
    "                    \"output\": {\n",
    "                        \"step_name\": \"sm_processing_step_sklearn\",\n",
    "                        \"output_name\": \"output-1\",\n",
    "                    },\n",
    "                }\n",
    "            ]\n",
    "        ),\n",
    "        StepCallbackSqsQueueExists(),\n",
    "    ]\n",
    "    cm = Configuration(\n",
    "        validations=validations,\n",
    "        sagemaker_pipeline=sm_pipeline,\n",
    "    )\n",
    "    return cm.run(return_df=True)"
   ]
  },
  {
   "cell_type": "markdown",
   "metadata": {},
   "source": [
    "## Running the validation and printing the report"
   ]
  },
  {
   "cell_type": "code",
   "execution_count": null,
   "metadata": {},
   "outputs": [],
   "source": [
    "report = validate_sm_pipeline(sm_pipeline)"
   ]
  },
  {
   "cell_type": "code",
   "execution_count": null,
   "metadata": {},
   "outputs": [],
   "source": [
    "report"
   ]
  }
 ],
 "metadata": {
  "kernelspec": {
   "display_name": "Python 3 (ipykernel)",
   "language": "python",
   "name": "python3"
  },
  "language_info": {
   "codemirror_mode": {
    "name": "ipython",
    "version": 3
   },
   "file_extension": ".py",
   "mimetype": "text/x-python",
   "name": "python",
   "nbconvert_exporter": "python",
   "pygments_lexer": "ipython3",
   "version": "3.12.0"
  }
 },
 "nbformat": 4,
 "nbformat_minor": 4
}
