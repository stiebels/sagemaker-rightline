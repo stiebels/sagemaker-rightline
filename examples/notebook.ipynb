{
 "cells": [
  {
   "cell_type": "code",
   "execution_count": 7,
   "metadata": {
    "collapsed": true
   },
   "outputs": [
    {
     "name": "stdout",
     "output_type": "stream",
     "text": [
      "The autoreload extension is already loaded. To reload it, use:\n",
      "  %reload_ext autoreload\n"
     ]
    }
   ],
   "source": [
    "%load_ext autoreload\n",
    "%autoreload 2\n",
    "\n",
    "from sagemaker.processing import NetworkConfig\n",
    "from sagemaker.workflow.parameters import ParameterString\n",
    "from sagemaker_rightline.model import Configuration\n",
    "from sagemaker_rightline.validations import (\n",
    "    StepImagesExistOnEcr,\n",
    "    StepKmsKeyId,\n",
    "    PipelineParameters,\n",
    "    ContainerImage,\n",
    "    StepNetworkConfig,\n",
    "    StepLambdaFunctionExists,\n",
    "    StepRoleNameExists,\n",
    "    StepRoleNameAsExpected,\n",
    ")\n",
    "from sagemaker_rightline.rules import Equals, Contains\n",
    "from tests.utils import create_image\n",
    "from tests.fixtures.pipeline import get_sagemaker_pipeline\n",
    "from tests.fixtures.image_details import IMAGE_1_URI, IMAGE_2_URI\n",
    "from moto import mock_ecr\n",
    "import boto3"
   ]
  },
  {
   "cell_type": "markdown",
   "source": [
    "## Fetching SM Pipeline"
   ],
   "metadata": {
    "collapsed": false
   }
  },
  {
   "cell_type": "code",
   "execution_count": 2,
   "outputs": [],
   "source": [
    "sm_pipeline = get_sagemaker_pipeline(script_path=\"../tests/fixtures/fake_processing_script.py\")"
   ],
   "metadata": {
    "collapsed": false
   }
  },
  {
   "cell_type": "markdown",
   "source": [
    "## Defining function that validates the SM Pipeline"
   ],
   "metadata": {
    "collapsed": false
   }
  },
  {
   "cell_type": "markdown",
   "source": [
    "Note: In order to run this example offline/without AWS access, we're mocking ECR and publishing two mock images to it."
   ],
   "metadata": {
    "collapsed": false
   }
  },
  {
   "cell_type": "code",
   "execution_count": 3,
   "outputs": [],
   "source": [
    "@mock_ecr\n",
    "@create_image(\n",
    "    boto3.client(\"ecr\"), [ContainerImage(uri=IMAGE_1_URI), ContainerImage(uri=IMAGE_2_URI)]\n",
    ")\n",
    "def validate_sm_pipeline(sm_pipeline: \"sagemaker.workflow.pipeline.Pipeline\") -> \"pandas.DataFrame\":\n",
    "    validations = [\n",
    "        StepImagesExistOnEcr(),\n",
    "        PipelineParameters(\n",
    "            parameters_expected=[\n",
    "                ParameterString(\n",
    "                    name=\"parameter-1\",\n",
    "                    default_value=\"some-value\",\n",
    "                ),\n",
    "            ],\n",
    "            rule=Contains(),\n",
    "        ),\n",
    "        StepKmsKeyId(\n",
    "            kms_key_id_expected=\"some/kms-key-alias\",\n",
    "            step_name=\"sm_training_step_sklearn\",  # optional: if not set, will check all steps\n",
    "            rule=Equals(),\n",
    "        ),\n",
    "        StepNetworkConfig(\n",
    "            network_config_expected=NetworkConfig(\n",
    "                enable_network_isolation=False,\n",
    "                security_group_ids=[\"sg-1234567890\"],\n",
    "                subnets=[\"subnet-1234567890\"],\n",
    "            ),\n",
    "            rule=Equals(negative=True),\n",
    "        ),\n",
    "        StepLambdaFunctionExists(),\n",
    "        StepRoleNameExists(),\n",
    "        StepRoleNameAsExpected(\n",
    "            role_name_expected=\"some-role-name\",\n",
    "            step_name=\"sm_training_step_sklearn\",  # optional: if not set, will check all steps\n",
    "            rule=Equals(),\n",
    "        ),\n",
    "    ]\n",
    "    cm = Configuration(\n",
    "        validations=validations,\n",
    "        sagemaker_pipeline=sm_pipeline,\n",
    "    )\n",
    "    return cm.run(return_df=True)"
   ],
   "metadata": {
    "collapsed": false
   }
  },
  {
   "cell_type": "markdown",
   "source": [
    "## Running the validation and printing the report"
   ],
   "metadata": {
    "collapsed": false
   }
  },
  {
   "cell_type": "code",
   "execution_count": 34,
   "outputs": [],
   "source": [
    "report = validate_sm_pipeline(sm_pipeline)"
   ],
   "metadata": {
    "collapsed": false
   }
  },
  {
   "cell_type": "code",
   "execution_count": 36,
   "outputs": [
    {
     "data": {
      "text/plain": "        validation_name                                            subject   \n0  StepImagesExistOnEcr  ['123456789012.dkr.ecr.eu-west-1.amazonaws.com...  \\\n1    PipelineParameters  [ParameterString(name='parameter-1', parameter...   \n2          StepKmsKeyId                             ['some/kms-key-alias']   \n3     StepNetworkConfig  [{'enable_network_isolation': False, 'security...   \n\n  success                                            message  \n0    True  Images ['123456789012.dkr.ecr.eu-west-1.amazon...  \n1   False  [ParameterString(name='parameter-1', parameter...  \n2    True  ['some/kms-key-alias'] does equal ['some/kms-k...  \n3   False  [None] does not equal [{'enable_network_isolat...  ",
      "text/html": "<div>\n<style scoped>\n    .dataframe tbody tr th:only-of-type {\n        vertical-align: middle;\n    }\n\n    .dataframe tbody tr th {\n        vertical-align: top;\n    }\n\n    .dataframe thead th {\n        text-align: right;\n    }\n</style>\n<table border=\"1\" class=\"dataframe\">\n  <thead>\n    <tr style=\"text-align: right;\">\n      <th></th>\n      <th>validation_name</th>\n      <th>subject</th>\n      <th>success</th>\n      <th>message</th>\n    </tr>\n  </thead>\n  <tbody>\n    <tr>\n      <th>0</th>\n      <td>StepImagesExistOnEcr</td>\n      <td>['123456789012.dkr.ecr.eu-west-1.amazonaws.com...</td>\n      <td>True</td>\n      <td>Images ['123456789012.dkr.ecr.eu-west-1.amazon...</td>\n    </tr>\n    <tr>\n      <th>1</th>\n      <td>PipelineParameters</td>\n      <td>[ParameterString(name='parameter-1', parameter...</td>\n      <td>False</td>\n      <td>[ParameterString(name='parameter-1', parameter...</td>\n    </tr>\n    <tr>\n      <th>2</th>\n      <td>StepKmsKeyId</td>\n      <td>['some/kms-key-alias']</td>\n      <td>True</td>\n      <td>['some/kms-key-alias'] does equal ['some/kms-k...</td>\n    </tr>\n    <tr>\n      <th>3</th>\n      <td>StepNetworkConfig</td>\n      <td>[{'enable_network_isolation': False, 'security...</td>\n      <td>False</td>\n      <td>[None] does not equal [{'enable_network_isolat...</td>\n    </tr>\n  </tbody>\n</table>\n</div>"
     },
     "execution_count": 36,
     "metadata": {},
     "output_type": "execute_result"
    }
   ],
   "source": [
    "report"
   ],
   "metadata": {
    "collapsed": false
   }
  }
 ],
 "metadata": {
  "kernelspec": {
   "display_name": "Python 3",
   "language": "python",
   "name": "python3"
  },
  "language_info": {
   "codemirror_mode": {
    "name": "ipython",
    "version": 2
   },
   "file_extension": ".py",
   "mimetype": "text/x-python",
   "name": "python",
   "nbconvert_exporter": "python",
   "pygments_lexer": "ipython2",
   "version": "2.7.6"
  }
 },
 "nbformat": 4,
 "nbformat_minor": 0
}
